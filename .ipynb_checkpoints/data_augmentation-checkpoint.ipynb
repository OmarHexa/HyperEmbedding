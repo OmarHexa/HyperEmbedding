{
 "cells": [
  {
   "cell_type": "code",
   "execution_count": 2,
   "metadata": {},
   "outputs": [],
   "source": [
    "from tqdm import tqdm\n",
    "from glob import glob\n",
    "import numpy as np\n",
    "import os\n",
    "from utils.process_data import split_train_val, get_data_properties\n",
    "# from utils.generate_crops import *\n",
    "from multiprocessing import Pool\n",
    "\n",
    "import json"
   ]
  },
  {
   "cell_type": "code",
   "execution_count": 5,
   "metadata": {},
   "outputs": [],
   "source": [
    "data_dir = '../Data'\n",
    "project_name = 'H2giga'\n",
    "if os.path.exists(os.path.join(data_dir,project_name)):\n",
    "    print(\"`{}` is choosen as datapath\".format(os.path.join(data_dir,project_name)))"
   ]
  },
  {
   "cell_type": "code",
   "execution_count": 4,
   "metadata": {},
   "outputs": [
    {
     "name": "stderr",
     "output_type": "stream",
     "text": [
      "0it [00:00, ?it/s]\n"
     ]
    },
    {
     "name": "stdout",
     "output_type": "stream",
     "text": [
      "Number of instances per class\n",
      " {1: 0, 2: 0, 3: 0, 4: 0, 5: 0}\n"
     ]
    },
    {
     "name": "stderr",
     "output_type": "stream",
     "text": [
      "0it [00:00, ?it/s]\n",
      "/opt/conda/lib/python3.8/site-packages/numpy/core/fromnumeric.py:3474: RuntimeWarning: Mean of empty slice.\n",
      "  return _methods._mean(a, axis=axis, dtype=dtype,\n",
      "/opt/conda/lib/python3.8/site-packages/numpy/core/_methods.py:189: RuntimeWarning: invalid value encountered in double_scalars\n",
      "  ret = ret.dtype.type(ret / rcount)\n"
     ]
    },
    {
     "name": "stdout",
     "output_type": "stream",
     "text": [
      "Foreground weight of the `20220719` dataset set equal to '{1.0: nan, 2.0: nan, 3.0: nan, 4.0: nan, 5.0: nan}'\n"
     ]
    },
    {
     "name": "stderr",
     "output_type": "stream",
     "text": [
      "0it [00:00, ?it/s]\n"
     ]
    },
    {
     "ename": "ValueError",
     "evalue": "zero-size array to reduction operation minimum which has no identity",
     "output_type": "error",
     "traceback": [
      "\u001b[0;31m---------------------------------------------------------------------------\u001b[0m",
      "\u001b[0;31mValueError\u001b[0m                                Traceback (most recent call last)",
      "Input \u001b[0;32mIn [4]\u001b[0m, in \u001b[0;36m<cell line: 1>\u001b[0;34m()\u001b[0m\n\u001b[0;32m----> 1\u001b[0m data_properties_dir \u001b[38;5;241m=\u001b[39m \u001b[43mget_data_properties\u001b[49m\u001b[43m(\u001b[49m\u001b[43mdata_dir\u001b[49m\u001b[43m,\u001b[49m\u001b[43m \u001b[49m\u001b[43mproject_name\u001b[49m\u001b[43m,\u001b[49m\u001b[43m \u001b[49m\u001b[43mtrain_val_name\u001b[49m\u001b[38;5;241;43m=\u001b[39;49m\u001b[43m[\u001b[49m\u001b[38;5;124;43m'\u001b[39;49m\u001b[38;5;124;43mtrain\u001b[39;49m\u001b[38;5;124;43m'\u001b[39;49m\u001b[43m,\u001b[49m\u001b[43m \u001b[49m\u001b[38;5;124;43m'\u001b[39;49m\u001b[38;5;124;43mval\u001b[39;49m\u001b[38;5;124;43m'\u001b[39;49m\u001b[43m]\u001b[49m\u001b[43m)\u001b[49m\n",
      "File \u001b[0;32m~/Spatial_Embedding/utils/process_data.py:524\u001b[0m, in \u001b[0;36mget_data_properties\u001b[0;34m(data_dir, project_name, train_val_name, process_k, background_id)\u001b[0m\n\u001b[1;32m    517\u001b[0m data_properties_dir[\u001b[38;5;124m'\u001b[39m\u001b[38;5;124minctance_per_class\u001b[39m\u001b[38;5;124m'\u001b[39m] \u001b[38;5;241m=\u001b[39mcalculate_per_class_instance(data_dir\u001b[38;5;241m=\u001b[39mdata_dir,project_name\u001b[38;5;241m=\u001b[39mproject_name,train_val_name\u001b[38;5;241m=\u001b[39mtrain_val_name,background_id\u001b[38;5;241m=\u001b[39mbackground_id)\n\u001b[1;32m    518\u001b[0m data_properties_dir[\u001b[38;5;124m'\u001b[39m\u001b[38;5;124mclass_weight\u001b[39m\u001b[38;5;124m'\u001b[39m] \u001b[38;5;241m=\u001b[39m calculate_per_class_weight(data_dir, project_name, train_val_name,\n\u001b[1;32m    519\u001b[0m                                                                        background_id\u001b[38;5;241m=\u001b[39mbackground_id)\n\u001b[1;32m    520\u001b[0m data_properties_dir[\u001b[38;5;124m'\u001b[39m\u001b[38;5;124mmin_object_size\u001b[39m\u001b[38;5;124m'\u001b[39m], data_properties_dir[\u001b[38;5;124m'\u001b[39m\u001b[38;5;124mmean_object_size\u001b[39m\u001b[38;5;124m'\u001b[39m], data_properties_dir[\n\u001b[1;32m    521\u001b[0m     \u001b[38;5;124m'\u001b[39m\u001b[38;5;124mmax_object_size\u001b[39m\u001b[38;5;124m'\u001b[39m], \\\n\u001b[1;32m    522\u001b[0m data_properties_dir[\u001b[38;5;124m'\u001b[39m\u001b[38;5;124mavg_object_size_y\u001b[39m\u001b[38;5;124m'\u001b[39m], data_properties_dir[\u001b[38;5;124m'\u001b[39m\u001b[38;5;124mavg_object_size_x\u001b[39m\u001b[38;5;124m'\u001b[39m], \\\n\u001b[1;32m    523\u001b[0m data_properties_dir[\u001b[38;5;124m'\u001b[39m\u001b[38;5;124mstdev_object_size_y\u001b[39m\u001b[38;5;124m'\u001b[39m], data_properties_dir[\u001b[38;5;124m'\u001b[39m\u001b[38;5;124mstdev_object_size_x\u001b[39m\u001b[38;5;124m'\u001b[39m] \u001b[38;5;241m=\u001b[39m \\\n\u001b[0;32m--> 524\u001b[0m     \u001b[43mcalculate_object_size\u001b[49m\u001b[43m(\u001b[49m\u001b[43mdata_dir\u001b[49m\u001b[43m,\u001b[49m\u001b[43m \u001b[49m\u001b[43mproject_name\u001b[49m\u001b[43m,\u001b[49m\u001b[43m \u001b[49m\u001b[43mtrain_val_name\u001b[49m\u001b[43m,\u001b[49m\u001b[43m \u001b[49m\u001b[43mprocess_k\u001b[49m\u001b[43m,\u001b[49m\n\u001b[1;32m    525\u001b[0m \u001b[43m                                                   \u001b[49m\u001b[43mbackground_id\u001b[49m\u001b[38;5;241;43m=\u001b[39;49m\u001b[43mbackground_id\u001b[49m\u001b[43m)\u001b[49m\n\u001b[1;32m    527\u001b[0m \u001b[38;5;28;01mif\u001b[39;00m torch\u001b[38;5;241m.\u001b[39mcuda\u001b[38;5;241m.\u001b[39mis_available():\n\u001b[1;32m    528\u001b[0m     data_properties_dir[\u001b[38;5;124m'\u001b[39m\u001b[38;5;124mn_y\u001b[39m\u001b[38;5;124m'\u001b[39m], data_properties_dir[\u001b[38;5;124m'\u001b[39m\u001b[38;5;124mn_x\u001b[39m\u001b[38;5;124m'\u001b[39m] \u001b[38;5;241m=\u001b[39m calculate_max_eval_image_size(\n\u001b[1;32m    529\u001b[0m         data_dir\u001b[38;5;241m=\u001b[39mdata_dir, project_name\u001b[38;5;241m=\u001b[39mproject_name, train_val_name\u001b[38;5;241m=\u001b[39m[\u001b[38;5;124m'\u001b[39m\u001b[38;5;124mtrain\u001b[39m\u001b[38;5;124m'\u001b[39m,\u001b[38;5;124m'\u001b[39m\u001b[38;5;124mval\u001b[39m\u001b[38;5;124m'\u001b[39m])\n",
      "File \u001b[0;32m~/Spatial_Embedding/utils/process_data.py:303\u001b[0m, in \u001b[0;36mcalculate_object_size\u001b[0;34m(data_dir, project_name, train_val_name, process_k, background_id)\u001b[0m\n\u001b[1;32m    299\u001b[0m         size_list_y\u001b[38;5;241m.\u001b[39mappend(np\u001b[38;5;241m.\u001b[39mmax(y) \u001b[38;5;241m-\u001b[39m np\u001b[38;5;241m.\u001b[39mmin(y))\n\u001b[1;32m    300\u001b[0m         size_list\u001b[38;5;241m.\u001b[39mappend(\u001b[38;5;28mlen\u001b[39m(x))\n\u001b[1;32m    302\u001b[0m \u001b[38;5;28mprint\u001b[39m(\u001b[38;5;124m\"\u001b[39m\u001b[38;5;124mMinimum object size of the `\u001b[39m\u001b[38;5;132;01m{}\u001b[39;00m\u001b[38;5;124m` dataset is equal to \u001b[39m\u001b[38;5;132;01m{}\u001b[39;00m\u001b[38;5;124m\"\u001b[39m\u001b[38;5;241m.\u001b[39mformat(\n\u001b[0;32m--> 303\u001b[0m     project_name, \u001b[43mnp\u001b[49m\u001b[38;5;241;43m.\u001b[39;49m\u001b[43mmin\u001b[49m\u001b[43m(\u001b[49m\u001b[43msize_list\u001b[49m\u001b[43m)\u001b[49m))\n\u001b[1;32m    304\u001b[0m \u001b[38;5;28mprint\u001b[39m(\u001b[38;5;124m\"\u001b[39m\u001b[38;5;124mMean object size of the `\u001b[39m\u001b[38;5;132;01m{}\u001b[39;00m\u001b[38;5;124m` dataset is equal to \u001b[39m\u001b[38;5;132;01m{}\u001b[39;00m\u001b[38;5;124m\"\u001b[39m\u001b[38;5;241m.\u001b[39mformat(\n\u001b[1;32m    305\u001b[0m     project_name, np\u001b[38;5;241m.\u001b[39mmean(size_list)))\n\u001b[1;32m    306\u001b[0m \u001b[38;5;28mprint\u001b[39m(\u001b[38;5;124m\"\u001b[39m\u001b[38;5;124mMaximum object size of the `\u001b[39m\u001b[38;5;132;01m{}\u001b[39;00m\u001b[38;5;124m` dataset is equal to \u001b[39m\u001b[38;5;132;01m{}\u001b[39;00m\u001b[38;5;124m\"\u001b[39m\u001b[38;5;241m.\u001b[39mformat(\n\u001b[1;32m    307\u001b[0m     project_name, np\u001b[38;5;241m.\u001b[39mmax(size_list)))\n",
      "File \u001b[0;32m<__array_function__ internals>:180\u001b[0m, in \u001b[0;36mamin\u001b[0;34m(*args, **kwargs)\u001b[0m\n",
      "File \u001b[0;32m/opt/conda/lib/python3.8/site-packages/numpy/core/fromnumeric.py:2916\u001b[0m, in \u001b[0;36mamin\u001b[0;34m(a, axis, out, keepdims, initial, where)\u001b[0m\n\u001b[1;32m   2800\u001b[0m \u001b[38;5;129m@array_function_dispatch\u001b[39m(_amin_dispatcher)\n\u001b[1;32m   2801\u001b[0m \u001b[38;5;28;01mdef\u001b[39;00m \u001b[38;5;21mamin\u001b[39m(a, axis\u001b[38;5;241m=\u001b[39m\u001b[38;5;28;01mNone\u001b[39;00m, out\u001b[38;5;241m=\u001b[39m\u001b[38;5;28;01mNone\u001b[39;00m, keepdims\u001b[38;5;241m=\u001b[39mnp\u001b[38;5;241m.\u001b[39m_NoValue, initial\u001b[38;5;241m=\u001b[39mnp\u001b[38;5;241m.\u001b[39m_NoValue,\n\u001b[1;32m   2802\u001b[0m          where\u001b[38;5;241m=\u001b[39mnp\u001b[38;5;241m.\u001b[39m_NoValue):\n\u001b[1;32m   2803\u001b[0m     \u001b[38;5;124;03m\"\"\"\u001b[39;00m\n\u001b[1;32m   2804\u001b[0m \u001b[38;5;124;03m    Return the minimum of an array or minimum along an axis.\u001b[39;00m\n\u001b[1;32m   2805\u001b[0m \n\u001b[0;32m   (...)\u001b[0m\n\u001b[1;32m   2914\u001b[0m \u001b[38;5;124;03m    6\u001b[39;00m\n\u001b[1;32m   2915\u001b[0m \u001b[38;5;124;03m    \"\"\"\u001b[39;00m\n\u001b[0;32m-> 2916\u001b[0m     \u001b[38;5;28;01mreturn\u001b[39;00m \u001b[43m_wrapreduction\u001b[49m\u001b[43m(\u001b[49m\u001b[43ma\u001b[49m\u001b[43m,\u001b[49m\u001b[43m \u001b[49m\u001b[43mnp\u001b[49m\u001b[38;5;241;43m.\u001b[39;49m\u001b[43mminimum\u001b[49m\u001b[43m,\u001b[49m\u001b[43m \u001b[49m\u001b[38;5;124;43m'\u001b[39;49m\u001b[38;5;124;43mmin\u001b[39;49m\u001b[38;5;124;43m'\u001b[39;49m\u001b[43m,\u001b[49m\u001b[43m \u001b[49m\u001b[43maxis\u001b[49m\u001b[43m,\u001b[49m\u001b[43m \u001b[49m\u001b[38;5;28;43;01mNone\u001b[39;49;00m\u001b[43m,\u001b[49m\u001b[43m \u001b[49m\u001b[43mout\u001b[49m\u001b[43m,\u001b[49m\n\u001b[1;32m   2917\u001b[0m \u001b[43m                          \u001b[49m\u001b[43mkeepdims\u001b[49m\u001b[38;5;241;43m=\u001b[39;49m\u001b[43mkeepdims\u001b[49m\u001b[43m,\u001b[49m\u001b[43m \u001b[49m\u001b[43minitial\u001b[49m\u001b[38;5;241;43m=\u001b[39;49m\u001b[43minitial\u001b[49m\u001b[43m,\u001b[49m\u001b[43m \u001b[49m\u001b[43mwhere\u001b[49m\u001b[38;5;241;43m=\u001b[39;49m\u001b[43mwhere\u001b[49m\u001b[43m)\u001b[49m\n",
      "File \u001b[0;32m/opt/conda/lib/python3.8/site-packages/numpy/core/fromnumeric.py:86\u001b[0m, in \u001b[0;36m_wrapreduction\u001b[0;34m(obj, ufunc, method, axis, dtype, out, **kwargs)\u001b[0m\n\u001b[1;32m     83\u001b[0m         \u001b[38;5;28;01melse\u001b[39;00m:\n\u001b[1;32m     84\u001b[0m             \u001b[38;5;28;01mreturn\u001b[39;00m reduction(axis\u001b[38;5;241m=\u001b[39maxis, out\u001b[38;5;241m=\u001b[39mout, \u001b[38;5;241m*\u001b[39m\u001b[38;5;241m*\u001b[39mpasskwargs)\n\u001b[0;32m---> 86\u001b[0m \u001b[38;5;28;01mreturn\u001b[39;00m \u001b[43mufunc\u001b[49m\u001b[38;5;241;43m.\u001b[39;49m\u001b[43mreduce\u001b[49m\u001b[43m(\u001b[49m\u001b[43mobj\u001b[49m\u001b[43m,\u001b[49m\u001b[43m \u001b[49m\u001b[43maxis\u001b[49m\u001b[43m,\u001b[49m\u001b[43m \u001b[49m\u001b[43mdtype\u001b[49m\u001b[43m,\u001b[49m\u001b[43m \u001b[49m\u001b[43mout\u001b[49m\u001b[43m,\u001b[49m\u001b[43m \u001b[49m\u001b[38;5;241;43m*\u001b[39;49m\u001b[38;5;241;43m*\u001b[39;49m\u001b[43mpasskwargs\u001b[49m\u001b[43m)\u001b[49m\n",
      "\u001b[0;31mValueError\u001b[0m: zero-size array to reduction operation minimum which has no identity"
     ]
    }
   ],
   "source": [
    "data_properties_dir = get_data_properties(data_dir, project_name, train_val_name=['train', 'val'])\n"
   ]
  },
  {
   "cell_type": "code",
   "execution_count": 9,
   "metadata": {},
   "outputs": [
    {
     "name": "stdout",
     "output_type": "stream",
     "text": [
      "Crop size in x and y will be set equal to 416\n"
     ]
    }
   ],
   "source": [
    "# n_sigma is used to control the size of crop\n",
    "n_sigma = 5\n",
    "\n",
    "\n",
    "def round_up_8(x):\n",
    "    return (x.astype(int)+7) & (-8)\n",
    "\n",
    "\n",
    "crops_dir = '../crops/'\n",
    "data_subsets = ['train', 'val'] \n",
    "crop_size =416\n",
    "# crop_size = np.maximum(round_up_8(data_properties_dir['avg_object_size_y'] + n_sigma*data_properties_dir['stdev_object_size_y']),\n",
    "# round_up_8(data_properties_dir['avg_object_size_x'] + n_sigma*data_properties_dir['stdev_object_size_x']))\n",
    "print(\"Crop size in x and y will be set equal to {}\".format(crop_size))\n",
    "\n"
   ]
  },
  {
   "cell_type": "code",
   "execution_count": 11,
   "metadata": {},
   "outputs": [
    {
     "name": "stderr",
     "output_type": "stream",
     "text": [
      "  0%|          | 0/1 [00:00<?, ?it/s]/Users/faruk92/miniconda3/lib/python3.9/site-packages/spectral/io/envi.py:175: UserWarning: Parameters with non-lowercase names encountered and converted to lowercase. To retain source file parameter name capitalization, set spectral.settings.envi_support_nonlowercase_params to True.\n",
      "  warnings.warn(msg)\n",
      "spectral:WARNING: Unable to parse bad band list (bbl) in ENVI header as integers.\n",
      "100%|██████████| 1/1 [01:58<00:00, 118.94s/it]\n",
      "  0%|          | 0/1 [00:00<?, ?it/s]/Users/faruk92/miniconda3/lib/python3.9/site-packages/spectral/io/envi.py:175: UserWarning: Parameters with non-lowercase names encountered and converted to lowercase. To retain source file parameter name capitalization, set spectral.settings.envi_support_nonlowercase_params to True.\n",
      "  warnings.warn(msg)\n",
      "spectral:WARNING: Unable to parse bad band list (bbl) in ENVI header as integers.\n",
      "100%|██████████| 1/1 [01:54<00:00, 114.36s/it]\n"
     ]
    }
   ],
   "source": [
    "import itertools\n",
    "\n",
    "\n",
    "for data_subset in data_subsets:\n",
    "    image_dir = os.path.join(data_dir, project_name, data_subset, 'images')\n",
    "    instance_dir = os.path.join(data_dir, project_name, data_subset,'instances')\n",
    "    classmap_dir = os.path.join(data_dir, project_name, data_subset,'classmaps')\n",
    "    hs_dir = os.path.join(data_dir, project_name, data_subset,'hs')\n",
    "    \n",
    "    \n",
    "    \n",
    "    \n",
    "    image_names = sorted(glob.glob(os.path.join(image_dir, '*.png'))) \n",
    "    instance_names = sorted(glob.glob(os.path.join(instance_dir, '*.png')))\n",
    "    classmap_names = sorted(glob.glob(os.path.join(classmap_dir, '*.png')))\n",
    "    hs_names = sorted(glob.glob(os.path.join(hs_dir, '*.cue')))\n",
    "    header_names = sorted(glob.glob(os.path.join(hs_dir, '*.hdr')))\n",
    "    crop_size_iter = list(itertools.repeat(crop_size,len(image_names)))\n",
    "    crop_dir_iter = list(itertools.repeat(os.path.join(crops_dir,'H2giga'),len(image_names)))\n",
    "    type_iter = list(itertools.repeat(data_subset,len(image_names)))\n",
    "\n",
    "    \n",
    "    item = zip(image_names,instance_names,classmap_names,hs_names,header_names,crop_size_iter,crop_dir_iter,type_iter)\n",
    "    \n",
    "    with Pool(2) as p:\n",
    "        max_ = len(image_names)\n",
    "        with tqdm(total=max_) as pbar:\n",
    "            for _ in p.imap_unordered(process_with_pool, item):\n",
    "                pbar.update()\n",
    "        # shutdown the process pool\n",
    "        p.close()\n",
    "        # wait for all issued task to complete\n",
    "        p.join()"
   ]
  }
 ],
 "metadata": {
  "kernelspec": {
   "display_name": "Python 3 (ipykernel)",
   "language": "python",
   "name": "python3"
  },
  "language_info": {
   "codemirror_mode": {
    "name": "ipython",
    "version": 3
   },
   "file_extension": ".py",
   "mimetype": "text/x-python",
   "name": "python",
   "nbconvert_exporter": "python",
   "pygments_lexer": "ipython3",
   "version": "3.8.13"
  },
  "vscode": {
   "interpreter": {
    "hash": "9ce193ec9d25091872f42330e8e59302c7697927f9e76d82d294f5bce38f4b24"
   }
  }
 },
 "nbformat": 4,
 "nbformat_minor": 4
}
