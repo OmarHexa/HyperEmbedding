{
 "cells": [
  {
   "cell_type": "code",
   "execution_count": 1,
   "metadata": {},
   "outputs": [],
   "source": [
    "import train_config\n",
    "from matplotlib import pyplot as plt\n",
    "import os\n",
    "import gc\n",
    "import torch\n",
    "import json\n",
    "from train import begin_trianing"
   ]
  },
  {
   "cell_type": "code",
   "execution_count": 2,
   "metadata": {},
   "outputs": [
    {
     "name": "stdout",
     "output_type": "stream",
     "text": [
      "{\n",
      "  \"cuda\": true,\n",
      "  \"save\": true,\n",
      "  \"save_dir\": \"./exprgb_auxloss_cosv7\",\n",
      "  \"resume_path\": null,\n",
      "  \"color_map\": {\n",
      "    \"0\": [\n",
      "      0,\n",
      "      0,\n",
      "      0\n",
      "    ],\n",
      "    \"1\": [\n",
      "      21,\n",
      "      176,\n",
      "      26\n",
      "    ],\n",
      "    \"2\": [\n",
      "      5,\n",
      "      73,\n",
      "      7\n",
      "    ],\n",
      "    \"3\": [\n",
      "      170,\n",
      "      166,\n",
      "      98\n",
      "    ],\n",
      "    \"4\": [\n",
      "      229,\n",
      "      0,\n",
      "      0\n",
      "    ],\n",
      "    \"5\": [\n",
      "      140,\n",
      "      0,\n",
      "      15\n",
      "    ]\n",
      "  },\n",
      "  \"num_class\": 5,\n",
      "  \"train_dataset\": {\n",
      "    \"name\": \"H2giga\",\n",
      "    \"kwargs\": {\n",
      "      \"root_dir\": \"../Data/augmented/H2giga\",\n",
      "      \"type\": \"train\",\n",
      "      \"class_id\": null,\n",
      "      \"size\": null,\n",
      "      \"normalize\": true,\n",
      "      \"transform\": \"Compose(\\n    RandomRotationsAndFlips(degrees=[-90.0, 90.0], interpolation=nearest, expand=False, fill=0)\\n    <utils.transforms.ToTensor object at 0x7f7f8f955c70>\\n)\"\n",
      "    },\n",
      "    \"batch_size\": 20,\n",
      "    \"workers\": 4\n",
      "  },\n",
      "  \"val_dataset\": {\n",
      "    \"name\": \"H2giga\",\n",
      "    \"kwargs\": {\n",
      "      \"root_dir\": \"../Data/augmented/H2giga\",\n",
      "      \"type\": \"val\",\n",
      "      \"normalize\": true,\n",
      "      \"transform\": \"Compose(\\n    <utils.transforms.ToTensor object at 0x7f7f8f955df0>\\n)\"\n",
      "    },\n",
      "    \"batch_size\": 20,\n",
      "    \"workers\": 4\n",
      "  },\n",
      "  \"model\": {\n",
      "    \"name\": \"branched_hypernet\",\n",
      "    \"kwargs\": {\n",
      "      \"in_channel\": 3,\n",
      "      \"num_classes\": [\n",
      "        4,\n",
      "        5\n",
      "      ]\n",
      "    }\n",
      "  },\n",
      "  \"lr\": 0.0005,\n",
      "  \"n_epochs\": 100,\n",
      "  \"grid_size\": 1024,\n",
      "  \"loss_opts\": {\n",
      "    \"class_weight\": [\n",
      "      7.842,\n",
      "      6.839,\n",
      "      5.683,\n",
      "      9.029,\n",
      "      9.533\n",
      "    ],\n",
      "    \"num_class\": 5,\n",
      "    \"n_sigma\": 2\n",
      "  }\n",
      "}\n"
     ]
    }
   ],
   "source": [
    "args = train_config.get_args()\n",
    "print (json.dumps(args, indent=2, default=str))\n",
    "# print(args)"
   ]
  },
  {
   "cell_type": "code",
   "execution_count": 3,
   "metadata": {},
   "outputs": [],
   "source": [
    "if args['save']:\n",
    "    if not os.path.exists(args['save_dir']):\n",
    "        os.makedirs(args['save_dir'])\n"
   ]
  },
  {
   "cell_type": "code",
   "execution_count": 4,
   "metadata": {},
   "outputs": [
    {
     "name": "stdout",
     "output_type": "stream",
     "text": [
      "Using device: cuda:0\n",
      "NVIDIA A100-SXM4-40GB\n",
      "NVIDIA A100-SXM4-40GB\n"
     ]
    }
   ],
   "source": [
    "#check device status\n",
    "device = torch.device(\"cuda:0\" if args['cuda'] & torch.cuda.is_available() else \"cpu\")\n",
    "print('Using device:', device)\n",
    "for i in range(torch.cuda.device_count()):\n",
    "    print(torch.cuda.get_device_name(i))"
   ]
  },
  {
   "cell_type": "code",
   "execution_count": null,
   "metadata": {},
   "outputs": [
    {
     "name": "stdout",
     "output_type": "stream",
     "text": [
      "Creating branched hypernet with [4, 5] classes\n",
      "initialize last layer with size:  torch.Size([32, 4, 2, 2])\n",
      "Created spatial emb loss function with: to_center: True, n_sigma: 2\n",
      "created logger with keys:  ('train', 'val', 'iou')\n",
      "Starting epoch 0\n",
      "learning rate: 0.0005\n"
     ]
    },
    {
     "name": "stderr",
     "output_type": "stream",
     "text": [
      "  0%|          | 0/31 [00:00<?, ?it/s]/opt/conda/lib/python3.8/site-packages/torch/nn/parallel/_functions.py:68: UserWarning: Was asked to gather along dimension 0, but all input tensors were scalars; will instead unsqueeze and return a vector.\n",
      "  warnings.warn('Was asked to gather along dimension 0, but all '\n",
      "100%|██████████| 31/31 [00:47<00:00,  1.54s/it]\n",
      "100%|██████████| 4/4 [00:07<00:00,  1.86s/it]\n",
      "Lossy conversion from float32 to uint8. Range [0.0, 255.0]. Convert image to uint8 prior to saving to suppress this warning.\n"
     ]
    },
    {
     "name": "stdout",
     "output_type": "stream",
     "text": [
      "image saved as ./exprgb_auxloss_cosv7/epoch_0_20220719_H2GIGA_000_012_snapshot_REF_011.png\n",
      "===> train loss: 3.57\n",
      "===> val loss: 4.09, val iou: 0.32\n",
      "=> saving checkpoint\n",
      "Starting epoch 1\n",
      "learning rate: 0.0004954977417064171\n"
     ]
    },
    {
     "name": "stderr",
     "output_type": "stream",
     "text": [
      "100%|██████████| 31/31 [00:47<00:00,  1.53s/it]\n",
      "100%|██████████| 4/4 [00:07<00:00,  1.78s/it]\n",
      "Lossy conversion from float32 to uint8. Range [0.0, 255.0]. Convert image to uint8 prior to saving to suppress this warning.\n"
     ]
    },
    {
     "name": "stdout",
     "output_type": "stream",
     "text": [
      "image saved as ./exprgb_auxloss_cosv7/epoch_1_20220719_H2GIGA_000_056_snapshot_REF_022.png\n",
      "===> train loss: 2.45\n",
      "===> val loss: 3.12, val iou: 0.59\n",
      "=> saving checkpoint\n",
      "Starting epoch 2\n",
      "learning rate: 0.0004909909332982877\n"
     ]
    },
    {
     "name": "stderr",
     "output_type": "stream",
     "text": [
      "100%|██████████| 31/31 [00:47<00:00,  1.54s/it]\n",
      "100%|██████████| 4/4 [00:07<00:00,  1.84s/it]\n",
      "Lossy conversion from float32 to uint8. Range [0.0, 255.0]. Convert image to uint8 prior to saving to suppress this warning.\n"
     ]
    },
    {
     "name": "stdout",
     "output_type": "stream",
     "text": [
      "image saved as ./exprgb_auxloss_cosv7/epoch_2_20220719_H2GIGA_000_056_snapshot_REF_027.png\n",
      "===> train loss: 1.79\n",
      "===> val loss: 1.57, val iou: 0.79\n",
      "=> saving checkpoint\n",
      "Starting epoch 3\n",
      "learning rate: 0.0004864795236750653\n"
     ]
    },
    {
     "name": "stderr",
     "output_type": "stream",
     "text": [
      "100%|██████████| 31/31 [00:47<00:00,  1.53s/it]\n",
      "100%|██████████| 4/4 [00:07<00:00,  1.82s/it]\n",
      "Lossy conversion from float32 to uint8. Range [0.0, 255.0]. Convert image to uint8 prior to saving to suppress this warning.\n"
     ]
    },
    {
     "name": "stdout",
     "output_type": "stream",
     "text": [
      "image saved as ./exprgb_auxloss_cosv7/epoch_3_20220719_H2GIGA_000_008_snapshot_REF_007.png\n",
      "===> train loss: 1.47\n",
      "===> val loss: 1.43, val iou: 0.80\n",
      "=> saving checkpoint\n",
      "Starting epoch 4\n",
      "learning rate: 0.00048196346062927547\n"
     ]
    },
    {
     "name": "stderr",
     "output_type": "stream",
     "text": [
      "100%|██████████| 31/31 [00:47<00:00,  1.52s/it]\n",
      "100%|██████████| 4/4 [00:07<00:00,  1.88s/it]\n",
      "Lossy conversion from float32 to uint8. Range [0.0, 255.0]. Convert image to uint8 prior to saving to suppress this warning.\n"
     ]
    },
    {
     "name": "stdout",
     "output_type": "stream",
     "text": [
      "image saved as ./exprgb_auxloss_cosv7/epoch_4_20220719_H2GIGA_000_008_snapshot_REF_018.png\n",
      "===> train loss: 1.25\n",
      "===> val loss: 1.14, val iou: 0.85\n",
      "=> saving checkpoint\n",
      "Starting epoch 5\n",
      "learning rate: 0.00047744269081074987\n"
     ]
    },
    {
     "name": "stderr",
     "output_type": "stream",
     "text": [
      "100%|██████████| 31/31 [00:47<00:00,  1.54s/it]\n",
      "100%|██████████| 4/4 [00:07<00:00,  1.81s/it]\n",
      "Lossy conversion from float32 to uint8. Range [0.0, 255.0]. Convert image to uint8 prior to saving to suppress this warning.\n"
     ]
    },
    {
     "name": "stdout",
     "output_type": "stream",
     "text": [
      "image saved as ./exprgb_auxloss_cosv7/epoch_5_20220719_H2GIGA_000_056_snapshot_REF_026.png\n",
      "===> train loss: 1.08\n",
      "===> val loss: 1.02, val iou: 0.87\n",
      "=> saving checkpoint\n",
      "Starting epoch 6\n",
      "learning rate: 0.000472917159689316\n"
     ]
    },
    {
     "name": "stderr",
     "output_type": "stream",
     "text": [
      "100%|██████████| 31/31 [00:47<00:00,  1.54s/it]\n",
      "100%|██████████| 4/4 [00:07<00:00,  1.80s/it]\n",
      "Lossy conversion from float32 to uint8. Range [0.0, 255.0]. Convert image to uint8 prior to saving to suppress this warning.\n"
     ]
    },
    {
     "name": "stdout",
     "output_type": "stream",
     "text": [
      "image saved as ./exprgb_auxloss_cosv7/epoch_6_20220719_H2GIGA_000_008_snapshot_REF_007.png\n",
      "===> train loss: 0.93\n",
      "===> val loss: 0.87, val iou: 0.88\n",
      "=> saving checkpoint\n",
      "Starting epoch 7\n",
      "learning rate: 0.00046838681151585874\n"
     ]
    },
    {
     "name": "stderr",
     "output_type": "stream",
     "text": [
      "100%|██████████| 31/31 [00:47<00:00,  1.54s/it]\n",
      "100%|██████████| 4/4 [00:07<00:00,  1.83s/it]\n",
      "Lossy conversion from float32 to uint8. Range [0.0, 255.0]. Convert image to uint8 prior to saving to suppress this warning.\n"
     ]
    },
    {
     "name": "stdout",
     "output_type": "stream",
     "text": [
      "image saved as ./exprgb_auxloss_cosv7/epoch_7_20220719_H2GIGA_000_012_snapshot_REF_009.png\n",
      "===> train loss: 0.81\n",
      "===> val loss: 0.78, val iou: 0.87\n",
      "=> saving checkpoint\n",
      "Starting epoch 8\n",
      "learning rate: 0.0004638515892816641\n"
     ]
    },
    {
     "name": "stderr",
     "output_type": "stream",
     "text": [
      "100%|██████████| 31/31 [00:47<00:00,  1.54s/it]\n",
      "100%|██████████| 4/4 [00:07<00:00,  1.83s/it]\n",
      "Lossy conversion from float32 to uint8. Range [0.0, 255.0]. Convert image to uint8 prior to saving to suppress this warning.\n"
     ]
    },
    {
     "name": "stdout",
     "output_type": "stream",
     "text": [
      "image saved as ./exprgb_auxloss_cosv7/epoch_8_20220719_H2GIGA_000_008_snapshot_REF_002.png\n",
      "===> train loss: 0.73\n",
      "===> val loss: 0.73, val iou: 0.88\n",
      "=> saving checkpoint\n",
      "Starting epoch 9\n",
      "learning rate: 0.0004593114346759497\n"
     ]
    },
    {
     "name": "stderr",
     "output_type": "stream",
     "text": [
      "100%|██████████| 31/31 [00:48<00:00,  1.57s/it]\n",
      "100%|██████████| 4/4 [00:07<00:00,  1.82s/it]\n",
      "Lossy conversion from float32 to uint8. Range [0.0, 255.0]. Convert image to uint8 prior to saving to suppress this warning.\n"
     ]
    },
    {
     "name": "stdout",
     "output_type": "stream",
     "text": [
      "image saved as ./exprgb_auxloss_cosv7/epoch_9_20220719_H2GIGA_000_012_snapshot_REF_024.png\n",
      "===> train loss: 0.66\n",
      "===> val loss: 0.75, val iou: 0.88\n",
      "=> saving checkpoint\n",
      "Starting epoch 10\n",
      "learning rate: 0.00045476628804148113\n"
     ]
    },
    {
     "name": "stderr",
     "output_type": "stream",
     "text": [
      "100%|██████████| 31/31 [00:47<00:00,  1.53s/it]\n",
      "100%|██████████| 4/4 [00:07<00:00,  1.82s/it]\n",
      "Lossy conversion from float32 to uint8. Range [0.0, 255.0]. Convert image to uint8 prior to saving to suppress this warning.\n"
     ]
    },
    {
     "name": "stdout",
     "output_type": "stream",
     "text": [
      "image saved as ./exprgb_auxloss_cosv7/epoch_10_20220719_H2GIGA_000_056_snapshot_REF_020.png\n",
      "===> train loss: 0.61\n",
      "===> val loss: 0.58, val iou: 0.89\n",
      "=> saving checkpoint\n",
      "Starting epoch 11\n",
      "learning rate: 0.00045021608832816447\n"
     ]
    },
    {
     "name": "stderr",
     "output_type": "stream",
     "text": [
      "100%|██████████| 31/31 [00:46<00:00,  1.52s/it]\n",
      "100%|██████████| 4/4 [00:07<00:00,  1.81s/it]\n",
      "Lossy conversion from float32 to uint8. Range [0.0, 255.0]. Convert image to uint8 prior to saving to suppress this warning.\n"
     ]
    },
    {
     "name": "stdout",
     "output_type": "stream",
     "text": [
      "image saved as ./exprgb_auxloss_cosv7/epoch_11_20220719_H2GIGA_000_056_snapshot_REF_016.png\n",
      "===> train loss: 0.54\n",
      "===> val loss: 0.52, val iou: 0.90\n",
      "=> saving checkpoint\n",
      "Starting epoch 12\n",
      "learning rate: 0.00044566077304449995\n"
     ]
    },
    {
     "name": "stderr",
     "output_type": "stream",
     "text": [
      "100%|██████████| 31/31 [00:47<00:00,  1.53s/it]\n",
      "100%|██████████| 4/4 [00:07<00:00,  1.80s/it]\n",
      "Lossy conversion from float32 to uint8. Range [0.0, 255.0]. Convert image to uint8 prior to saving to suppress this warning.\n"
     ]
    },
    {
     "name": "stdout",
     "output_type": "stream",
     "text": [
      "image saved as ./exprgb_auxloss_cosv7/epoch_12_20220719_H2GIGA_000_012_snapshot_REF_002.png\n",
      "===> train loss: 0.50\n",
      "===> val loss: 0.50, val iou: 0.90\n",
      "=> saving checkpoint\n",
      "Starting epoch 13\n",
      "learning rate: 0.00044110027820677195\n"
     ]
    },
    {
     "name": "stderr",
     "output_type": "stream",
     "text": [
      "100%|██████████| 31/31 [00:47<00:00,  1.54s/it]\n",
      "100%|██████████| 4/4 [00:07<00:00,  1.84s/it]\n",
      "Lossy conversion from float32 to uint8. Range [0.0, 255.0]. Convert image to uint8 prior to saving to suppress this warning.\n"
     ]
    },
    {
     "name": "stdout",
     "output_type": "stream",
     "text": [
      "image saved as ./exprgb_auxloss_cosv7/epoch_13_20220719_H2GIGA_000_008_snapshot_REF_007.png\n",
      "===> train loss: 0.48\n",
      "===> val loss: 0.47, val iou: 0.90\n",
      "=> saving checkpoint\n",
      "Starting epoch 14\n",
      "learning rate: 0.000436534538285843\n"
     ]
    },
    {
     "name": "stderr",
     "output_type": "stream",
     "text": [
      "100%|██████████| 31/31 [00:47<00:00,  1.53s/it]\n",
      "100%|██████████| 4/4 [00:07<00:00,  1.81s/it]\n",
      "Lossy conversion from float32 to uint8. Range [0.0, 255.0]. Convert image to uint8 prior to saving to suppress this warning.\n"
     ]
    },
    {
     "name": "stdout",
     "output_type": "stream",
     "text": [
      "image saved as ./exprgb_auxloss_cosv7/epoch_14_20220719_H2GIGA_000_008_snapshot_REF_005.png\n",
      "===> train loss: 0.45\n",
      "===> val loss: 0.50, val iou: 0.90\n",
      "=> saving checkpoint\n",
      "Starting epoch 15\n",
      "learning rate: 0.00043196348615140955\n"
     ]
    },
    {
     "name": "stderr",
     "output_type": "stream",
     "text": [
      "100%|██████████| 31/31 [00:47<00:00,  1.53s/it]\n",
      "100%|██████████| 4/4 [00:07<00:00,  1.81s/it]\n",
      "Lossy conversion from float32 to uint8. Range [0.0, 255.0]. Convert image to uint8 prior to saving to suppress this warning.\n"
     ]
    },
    {
     "name": "stdout",
     "output_type": "stream",
     "text": [
      "image saved as ./exprgb_auxloss_cosv7/epoch_15_20220719_H2GIGA_000_012_snapshot_REF_001.png\n",
      "===> train loss: 0.44\n",
      "===> val loss: 0.43, val iou: 0.90\n",
      "=> saving checkpoint\n",
      "Starting epoch 16\n",
      "learning rate: 0.00042738705301356716\n"
     ]
    },
    {
     "name": "stderr",
     "output_type": "stream",
     "text": [
      "100%|██████████| 31/31 [00:47<00:00,  1.53s/it]\n",
      "100%|██████████| 4/4 [00:07<00:00,  1.86s/it]\n",
      "Lossy conversion from float32 to uint8. Range [0.0, 255.0]. Convert image to uint8 prior to saving to suppress this warning.\n"
     ]
    },
    {
     "name": "stdout",
     "output_type": "stream",
     "text": [
      "image saved as ./exprgb_auxloss_cosv7/epoch_16_20220719_H2GIGA_000_056_snapshot_REF_006.png\n",
      "===> train loss: 0.42\n",
      "===> val loss: 0.40, val iou: 0.91\n",
      "=> saving checkpoint\n",
      "Starting epoch 17\n",
      "learning rate: 0.00042280516836152096\n"
     ]
    },
    {
     "name": "stderr",
     "output_type": "stream",
     "text": [
      "100%|██████████| 31/31 [00:47<00:00,  1.53s/it]\n",
      "100%|██████████| 4/4 [00:07<00:00,  1.82s/it]\n",
      "Lossy conversion from float32 to uint8. Range [0.0, 255.0]. Convert image to uint8 prior to saving to suppress this warning.\n"
     ]
    },
    {
     "name": "stdout",
     "output_type": "stream",
     "text": [
      "image saved as ./exprgb_auxloss_cosv7/epoch_17_20220719_H2GIGA_000_008_snapshot_REF_004.png\n",
      "===> train loss: 0.41\n",
      "===> val loss: 0.46, val iou: 0.89\n",
      "=> saving checkpoint\n",
      "Starting epoch 18\n",
      "learning rate: 0.00041821775989926696\n"
     ]
    },
    {
     "name": "stderr",
     "output_type": "stream",
     "text": [
      "100%|██████████| 31/31 [00:48<00:00,  1.56s/it]\n",
      "100%|██████████| 4/4 [00:07<00:00,  1.83s/it]\n",
      "Lossy conversion from float32 to uint8. Range [0.0, 255.0]. Convert image to uint8 prior to saving to suppress this warning.\n"
     ]
    },
    {
     "name": "stdout",
     "output_type": "stream",
     "text": [
      "image saved as ./exprgb_auxloss_cosv7/epoch_18_20220719_H2GIGA_000_012_snapshot_REF_008.png\n",
      "===> train loss: 0.39\n",
      "===> val loss: 0.40, val iou: 0.91\n",
      "=> saving checkpoint\n",
      "Starting epoch 19\n",
      "learning rate: 0.0004136247534780547\n"
     ]
    },
    {
     "name": "stderr",
     "output_type": "stream",
     "text": [
      "100%|██████████| 31/31 [00:47<00:00,  1.53s/it]\n",
      "100%|██████████| 4/4 [00:07<00:00,  1.90s/it]\n",
      "Lossy conversion from float32 to uint8. Range [0.0, 255.0]. Convert image to uint8 prior to saving to suppress this warning.\n"
     ]
    },
    {
     "name": "stdout",
     "output_type": "stream",
     "text": [
      "image saved as ./exprgb_auxloss_cosv7/epoch_19_20220719_H2GIGA_000_008_snapshot_REF_001.png\n",
      "===> train loss: 0.36\n",
      "===> val loss: 0.39, val iou: 0.91\n",
      "=> saving checkpoint\n",
      "Starting epoch 20\n",
      "learning rate: 0.00040902607302542923\n"
     ]
    },
    {
     "name": "stderr",
     "output_type": "stream",
     "text": [
      "100%|██████████| 31/31 [00:47<00:00,  1.54s/it]\n",
      "100%|██████████| 4/4 [00:07<00:00,  1.82s/it]\n",
      "Lossy conversion from float32 to uint8. Range [0.0, 255.0]. Convert image to uint8 prior to saving to suppress this warning.\n"
     ]
    },
    {
     "name": "stdout",
     "output_type": "stream",
     "text": [
      "image saved as ./exprgb_auxloss_cosv7/epoch_20_20220719_H2GIGA_000_008_snapshot_REF_023.png\n",
      "===> train loss: 0.37\n",
      "===> val loss: 0.38, val iou: 0.91\n",
      "=> saving checkpoint\n",
      "Starting epoch 21\n",
      "learning rate: 0.00040442164047063304\n"
     ]
    },
    {
     "name": "stderr",
     "output_type": "stream",
     "text": [
      "100%|██████████| 31/31 [00:47<00:00,  1.52s/it]\n",
      "100%|██████████| 4/4 [00:07<00:00,  1.86s/it]\n",
      "Lossy conversion from float32 to uint8. Range [0.0, 255.0]. Convert image to uint8 prior to saving to suppress this warning.\n"
     ]
    },
    {
     "name": "stdout",
     "output_type": "stream",
     "text": [
      "image saved as ./exprgb_auxloss_cosv7/epoch_21_20220719_H2GIGA_000_056_snapshot_REF_023.png\n",
      "===> train loss: 0.36\n",
      "===> val loss: 0.41, val iou: 0.91\n",
      "=> saving checkpoint\n",
      "Starting epoch 22\n",
      "learning rate: 0.0003998113756661346\n"
     ]
    },
    {
     "name": "stderr",
     "output_type": "stream",
     "text": [
      "100%|██████████| 31/31 [00:47<00:00,  1.53s/it]\n",
      "100%|██████████| 4/4 [00:07<00:00,  1.79s/it]\n",
      "Lossy conversion from float32 to uint8. Range [0.0, 255.0]. Convert image to uint8 prior to saving to suppress this warning.\n"
     ]
    },
    {
     "name": "stdout",
     "output_type": "stream",
     "text": [
      "image saved as ./exprgb_auxloss_cosv7/epoch_22_20220719_H2GIGA_000_056_snapshot_REF_004.png\n",
      "===> train loss: 0.34\n",
      "===> val loss: 0.36, val iou: 0.91\n",
      "=> saving checkpoint\n",
      "Starting epoch 23\n",
      "learning rate: 0.0003951951963050278\n"
     ]
    },
    {
     "name": "stderr",
     "output_type": "stream",
     "text": [
      "100%|██████████| 31/31 [00:47<00:00,  1.53s/it]\n",
      "100%|██████████| 4/4 [00:07<00:00,  1.84s/it]\n",
      "Lossy conversion from float32 to uint8. Range [0.0, 255.0]. Convert image to uint8 prior to saving to suppress this warning.\n"
     ]
    },
    {
     "name": "stdout",
     "output_type": "stream",
     "text": [
      "image saved as ./exprgb_auxloss_cosv7/epoch_23_20220719_H2GIGA_000_056_snapshot_REF_003.png\n",
      "===> train loss: 0.34\n",
      "===> val loss: 0.36, val iou: 0.91\n",
      "=> saving checkpoint\n",
      "Starting epoch 24\n",
      "learning rate: 0.0003905730178340304\n"
     ]
    },
    {
     "name": "stderr",
     "output_type": "stream",
     "text": [
      "100%|██████████| 31/31 [00:47<00:00,  1.53s/it]\n",
      "100%|██████████| 4/4 [00:07<00:00,  1.82s/it]\n",
      "Lossy conversion from float32 to uint8. Range [0.0, 255.0]. Convert image to uint8 prior to saving to suppress this warning.\n"
     ]
    },
    {
     "name": "stdout",
     "output_type": "stream",
     "text": [
      "image saved as ./exprgb_auxloss_cosv7/epoch_24_20220719_H2GIGA_000_012_snapshot_REF_007.png\n",
      "===> train loss: 0.34\n",
      "===> val loss: 0.36, val iou: 0.91\n",
      "=> saving checkpoint\n",
      "Starting epoch 25\n",
      "learning rate: 0.00038594475336178527\n"
     ]
    },
    {
     "name": "stderr",
     "output_type": "stream",
     "text": [
      "100%|██████████| 31/31 [00:47<00:00,  1.53s/it]\n",
      "100%|██████████| 4/4 [00:07<00:00,  1.83s/it]\n",
      "Lossy conversion from float32 to uint8. Range [0.0, 255.0]. Convert image to uint8 prior to saving to suppress this warning.\n"
     ]
    },
    {
     "name": "stdout",
     "output_type": "stream",
     "text": [
      "image saved as ./exprgb_auxloss_cosv7/epoch_25_20220719_H2GIGA_000_012_snapshot_REF_012.png\n",
      "===> train loss: 0.32\n",
      "===> val loss: 0.34, val iou: 0.91\n",
      "=> saving checkpoint\n",
      "Starting epoch 26\n",
      "learning rate: 0.0003813103135621442\n"
     ]
    },
    {
     "name": "stderr",
     "output_type": "stream",
     "text": [
      "100%|██████████| 31/31 [00:47<00:00,  1.53s/it]\n",
      "100%|██████████| 4/4 [00:07<00:00,  1.83s/it]\n",
      "Lossy conversion from float32 to uint8. Range [0.0, 255.0]. Convert image to uint8 prior to saving to suppress this warning.\n"
     ]
    },
    {
     "name": "stdout",
     "output_type": "stream",
     "text": [
      "image saved as ./exprgb_auxloss_cosv7/epoch_26_20220719_H2GIGA_000_008_snapshot_REF_013.png\n",
      "===> train loss: 0.32\n",
      "===> val loss: 0.47, val iou: 0.91\n",
      "=> saving checkpoint\n",
      "Starting epoch 27\n",
      "learning rate: 0.0003766696065720893\n"
     ]
    },
    {
     "name": "stderr",
     "output_type": "stream",
     "text": [
      "100%|██████████| 31/31 [00:47<00:00,  1.53s/it]\n",
      "100%|██████████| 4/4 [00:07<00:00,  1.84s/it]\n",
      "Lossy conversion from float32 to uint8. Range [0.0, 255.0]. Convert image to uint8 prior to saving to suppress this warning.\n"
     ]
    },
    {
     "name": "stdout",
     "output_type": "stream",
     "text": [
      "image saved as ./exprgb_auxloss_cosv7/epoch_27_20220719_H2GIGA_000_008_snapshot_REF_012.png\n",
      "===> train loss: 0.31\n",
      "===> val loss: 0.32, val iou: 0.91\n",
      "=> saving checkpoint\n",
      "Starting epoch 28\n",
      "learning rate: 0.0003720225378839164\n"
     ]
    },
    {
     "name": "stderr",
     "output_type": "stream",
     "text": [
      "100%|██████████| 31/31 [00:47<00:00,  1.54s/it]\n",
      "100%|██████████| 4/4 [00:07<00:00,  1.87s/it]\n",
      "Lossy conversion from float32 to uint8. Range [0.0, 255.0]. Convert image to uint8 prior to saving to suppress this warning.\n"
     ]
    },
    {
     "name": "stdout",
     "output_type": "stream",
     "text": [
      "image saved as ./exprgb_auxloss_cosv7/epoch_28_20220719_H2GIGA_000_012_snapshot_REF_014.png\n",
      "===> train loss: 0.31\n",
      "===> val loss: 0.35, val iou: 0.91\n",
      "=> saving checkpoint\n",
      "Starting epoch 29\n",
      "learning rate: 0.00036736901023127285\n"
     ]
    },
    {
     "name": "stderr",
     "output_type": "stream",
     "text": [
      "100%|██████████| 31/31 [00:48<00:00,  1.55s/it]\n",
      "100%|██████████| 4/4 [00:07<00:00,  1.79s/it]\n",
      "Lossy conversion from float32 to uint8. Range [0.0, 255.0]. Convert image to uint8 prior to saving to suppress this warning.\n"
     ]
    },
    {
     "name": "stdout",
     "output_type": "stream",
     "text": [
      "image saved as ./exprgb_auxloss_cosv7/epoch_29_20220719_H2GIGA_000_056_snapshot_REF_021.png\n",
      "===> train loss: 0.30\n",
      "===> val loss: 0.32, val iou: 0.91\n",
      "=> saving checkpoint\n",
      "Starting epoch 30\n",
      "learning rate: 0.00036270892346860996\n"
     ]
    },
    {
     "name": "stderr",
     "output_type": "stream",
     "text": [
      "100%|██████████| 31/31 [00:47<00:00,  1.53s/it]\n",
      "100%|██████████| 4/4 [00:07<00:00,  1.82s/it]\n",
      "Lossy conversion from float32 to uint8. Range [0.0, 255.0]. Convert image to uint8 prior to saving to suppress this warning.\n"
     ]
    },
    {
     "name": "stdout",
     "output_type": "stream",
     "text": [
      "image saved as ./exprgb_auxloss_cosv7/epoch_30_20220719_H2GIGA_000_008_snapshot_REF_018.png\n",
      "===> train loss: 0.30\n",
      "===> val loss: 0.34, val iou: 0.91\n",
      "=> saving checkpoint\n",
      "Starting epoch 31\n",
      "learning rate: 0.00035804217444356787\n"
     ]
    },
    {
     "name": "stderr",
     "output_type": "stream",
     "text": [
      "100%|██████████| 31/31 [00:47<00:00,  1.53s/it]\n",
      "100%|██████████| 4/4 [00:07<00:00,  1.83s/it]\n",
      "Lossy conversion from float32 to uint8. Range [0.0, 255.0]. Convert image to uint8 prior to saving to suppress this warning.\n"
     ]
    },
    {
     "name": "stdout",
     "output_type": "stream",
     "text": [
      "image saved as ./exprgb_auxloss_cosv7/epoch_31_20220719_H2GIGA_000_056_snapshot_REF_003.png\n",
      "===> train loss: 0.29\n",
      "===> val loss: 0.32, val iou: 0.91\n",
      "=> saving checkpoint\n",
      "Starting epoch 32\n",
      "learning rate: 0.00035336865686177077\n"
     ]
    },
    {
     "name": "stderr",
     "output_type": "stream",
     "text": [
      "100%|██████████| 31/31 [00:47<00:00,  1.53s/it]\n",
      "100%|██████████| 4/4 [00:07<00:00,  1.93s/it]\n",
      "Lossy conversion from float32 to uint8. Range [0.0, 255.0]. Convert image to uint8 prior to saving to suppress this warning.\n"
     ]
    },
    {
     "name": "stdout",
     "output_type": "stream",
     "text": [
      "image saved as ./exprgb_auxloss_cosv7/epoch_32_20220719_H2GIGA_000_056_snapshot_REF_013.png\n",
      "===> train loss: 0.29\n",
      "===> val loss: 0.33, val iou: 0.91\n",
      "=> saving checkpoint\n",
      "Starting epoch 33\n",
      "learning rate: 0.00034868826114346313\n"
     ]
    },
    {
     "name": "stderr",
     "output_type": "stream",
     "text": [
      "100%|██████████| 31/31 [00:47<00:00,  1.52s/it]\n",
      "100%|██████████| 4/4 [00:07<00:00,  1.87s/it]\n",
      "Lossy conversion from float32 to uint8. Range [0.0, 255.0]. Convert image to uint8 prior to saving to suppress this warning.\n"
     ]
    },
    {
     "name": "stdout",
     "output_type": "stream",
     "text": [
      "image saved as ./exprgb_auxloss_cosv7/epoch_33_20220719_H2GIGA_000_056_snapshot_REF_000.png\n",
      "===> train loss: 0.29\n",
      "===> val loss: 0.33, val iou: 0.91\n",
      "=> saving checkpoint\n",
      "Starting epoch 34\n",
      "learning rate: 0.00034400087427136414\n"
     ]
    },
    {
     "name": "stderr",
     "output_type": "stream",
     "text": [
      "100%|██████████| 31/31 [00:47<00:00,  1.53s/it]\n",
      "100%|██████████| 4/4 [00:07<00:00,  1.82s/it]\n",
      "Lossy conversion from float32 to uint8. Range [0.0, 255.0]. Convert image to uint8 prior to saving to suppress this warning.\n"
     ]
    },
    {
     "name": "stdout",
     "output_type": "stream",
     "text": [
      "image saved as ./exprgb_auxloss_cosv7/epoch_34_20220719_H2GIGA_000_056_snapshot_REF_004.png\n",
      "===> train loss: 0.28\n",
      "===> val loss: 0.35, val iou: 0.91\n",
      "=> saving checkpoint\n",
      "Starting epoch 35\n",
      "learning rate: 0.0003393063796290625\n"
     ]
    },
    {
     "name": "stderr",
     "output_type": "stream",
     "text": [
      "100%|██████████| 31/31 [00:46<00:00,  1.52s/it]\n",
      "100%|██████████| 4/4 [00:07<00:00,  1.80s/it]\n",
      "Lossy conversion from float32 to uint8. Range [0.0, 255.0]. Convert image to uint8 prior to saving to suppress this warning.\n"
     ]
    },
    {
     "name": "stdout",
     "output_type": "stream",
     "text": [
      "image saved as ./exprgb_auxloss_cosv7/epoch_35_20220719_H2GIGA_000_008_snapshot_REF_014.png\n",
      "===> train loss: 0.28\n",
      "===> val loss: 0.33, val iou: 0.91\n",
      "=> saving checkpoint\n",
      "Starting epoch 36\n",
      "learning rate: 0.0003346046568292074\n"
     ]
    },
    {
     "name": "stderr",
     "output_type": "stream",
     "text": [
      "100%|██████████| 31/31 [00:47<00:00,  1.53s/it]\n",
      "100%|██████████| 4/4 [00:07<00:00,  1.81s/it]\n",
      "Lossy conversion from float32 to uint8. Range [0.0, 255.0]. Convert image to uint8 prior to saving to suppress this warning.\n"
     ]
    },
    {
     "name": "stdout",
     "output_type": "stream",
     "text": [
      "image saved as ./exprgb_auxloss_cosv7/epoch_36_20220719_H2GIGA_000_056_snapshot_REF_020.png\n",
      "===> train loss: 0.28\n",
      "===> val loss: 0.33, val iou: 0.91\n",
      "=> saving checkpoint\n",
      "Starting epoch 37\n",
      "learning rate: 0.00032989558153068285\n"
     ]
    },
    {
     "name": "stderr",
     "output_type": "stream",
     "text": [
      "100%|██████████| 31/31 [00:47<00:00,  1.54s/it]\n",
      "100%|██████████| 4/4 [00:07<00:00,  1.78s/it]\n",
      "Lossy conversion from float32 to uint8. Range [0.0, 255.0]. Convert image to uint8 prior to saving to suppress this warning.\n"
     ]
    },
    {
     "name": "stdout",
     "output_type": "stream",
     "text": [
      "image saved as ./exprgb_auxloss_cosv7/epoch_37_20220719_H2GIGA_000_008_snapshot_REF_017.png\n",
      "===> train loss: 0.28\n",
      "===> val loss: 0.32, val iou: 0.91\n",
      "=> saving checkpoint\n",
      "Starting epoch 38\n",
      "learning rate: 0.000325179025243871\n"
     ]
    },
    {
     "name": "stderr",
     "output_type": "stream",
     "text": [
      "100%|██████████| 31/31 [00:47<00:00,  1.53s/it]\n",
      "100%|██████████| 4/4 [00:07<00:00,  1.85s/it]\n",
      "Lossy conversion from float32 to uint8. Range [0.0, 255.0]. Convert image to uint8 prior to saving to suppress this warning.\n"
     ]
    },
    {
     "name": "stdout",
     "output_type": "stream",
     "text": [
      "image saved as ./exprgb_auxloss_cosv7/epoch_38_20220719_H2GIGA_000_056_snapshot_REF_019.png\n",
      "===> train loss: 0.27\n",
      "===> val loss: 0.32, val iou: 0.91\n",
      "=> saving checkpoint\n",
      "Starting epoch 39\n",
      "learning rate: 0.00032045485512302606\n"
     ]
    },
    {
     "name": "stderr",
     "output_type": "stream",
     "text": [
      "100%|██████████| 31/31 [00:47<00:00,  1.54s/it]\n",
      "100%|██████████| 4/4 [00:07<00:00,  1.81s/it]\n",
      "Lossy conversion from float32 to uint8. Range [0.0, 255.0]. Convert image to uint8 prior to saving to suppress this warning.\n"
     ]
    },
    {
     "name": "stdout",
     "output_type": "stream",
     "text": [
      "image saved as ./exprgb_auxloss_cosv7/epoch_39_20220719_H2GIGA_000_012_snapshot_REF_004.png\n",
      "===> train loss: 0.28\n",
      "===> val loss: 0.33, val iou: 0.91\n",
      "=> saving checkpoint\n",
      "Starting epoch 40\n",
      "learning rate: 0.00031572293374467766\n"
     ]
    },
    {
     "name": "stderr",
     "output_type": "stream",
     "text": [
      "100%|██████████| 31/31 [00:47<00:00,  1.52s/it]\n",
      "  0%|          | 0/4 [00:00<?, ?it/s]"
     ]
    }
   ],
   "source": [
    "begin_trianing(args,device=device)"
   ]
  },
  {
   "cell_type": "code",
   "execution_count": null,
   "metadata": {
    "collapsed": true,
    "jupyter": {
     "outputs_hidden": true
    }
   },
   "outputs": [],
   "source": [
    "# import sys\n",
    "# sys.exit()\n",
    "import torch\n",
    "torch.cuda.empty_cache()\n",
    "import gc\n",
    "gc.collect()\n",
    "gc.collect()\n",
    "import os\n",
    "\n",
    "os._exit(00)\n"
   ]
  },
  {
   "cell_type": "code",
   "execution_count": 2,
   "metadata": {},
   "outputs": [],
   "source": [
    "import test_config\n",
    "\n",
    "from test import begin_test\n",
    "\n",
    "args = test_config.get_args()\n"
   ]
  },
  {
   "cell_type": "code",
   "execution_count": 3,
   "metadata": {},
   "outputs": [
    {
     "name": "stdout",
     "output_type": "stream",
     "text": [
      "{\n",
      "  \"cuda\": true,\n",
      "  \"display\": true,\n",
      "  \"save\": true,\n",
      "  \"save_dir\": \"./test_rgb_auxloss\",\n",
      "  \"checkpoint_path\": \"./exprgb_auxloss_cosv5/checkpoint.pth\",\n",
      "  \"color_map\": {\n",
      "    \"0\": [\n",
      "      0,\n",
      "      0,\n",
      "      0\n",
      "    ],\n",
      "    \"1\": [\n",
      "      21,\n",
      "      176,\n",
      "      26\n",
      "    ],\n",
      "    \"2\": [\n",
      "      5,\n",
      "      73,\n",
      "      7\n",
      "    ],\n",
      "    \"3\": [\n",
      "      170,\n",
      "      166,\n",
      "      98\n",
      "    ],\n",
      "    \"4\": [\n",
      "      229,\n",
      "      0,\n",
      "      0\n",
      "    ],\n",
      "    \"5\": [\n",
      "      140,\n",
      "      0,\n",
      "      15\n",
      "    ]\n",
      "  },\n",
      "  \"num_class\": 5,\n",
      "  \"dataset\": {\n",
      "    \"name\": \"H2giga\",\n",
      "    \"kwargs\": {\n",
      "      \"root_dir\": \"../Data/augmented_old/H2giga/\",\n",
      "      \"type\": \"test\",\n",
      "      \"class_id\": null,\n",
      "      \"transform\": \"Compose(\\n    <utils.transforms.ToTensor object at 0x7f9830454c40>\\n)\"\n",
      "    }\n",
      "  },\n",
      "  \"model\": {\n",
      "    \"name\": \"branched_hypernet\",\n",
      "    \"kwargs\": {\n",
      "      \"in_channel\": 3,\n",
      "      \"num_classes\": [\n",
      "        4,\n",
      "        5\n",
      "      ]\n",
      "    }\n",
      "  }\n",
      "}\n"
     ]
    }
   ],
   "source": [
    "print (json.dumps(args, indent=2, default=str))"
   ]
  },
  {
   "cell_type": "code",
   "execution_count": 4,
   "metadata": {},
   "outputs": [
    {
     "name": "stdout",
     "output_type": "stream",
     "text": [
      "Creating branched hypernet with [4, 5] classes\n"
     ]
    },
    {
     "name": "stderr",
     "output_type": "stream",
     "text": [
      "100%|██████████| 22/22 [01:10<00:00,  3.20s/it]\n"
     ]
    }
   ],
   "source": [
    "begin_test(args)\n"
   ]
  },
  {
   "cell_type": "code",
   "execution_count": 4,
   "metadata": {
    "collapsed": true,
    "jupyter": {
     "outputs_hidden": true
    }
   },
   "outputs": [],
   "source": [
    "from models.hypernet import HyperNet\n",
    "import torch"
   ]
  },
  {
   "cell_type": "code",
   "execution_count": 6,
   "metadata": {
    "collapsed": true,
    "jupyter": {
     "outputs_hidden": true
    }
   },
   "outputs": [
    {
     "name": "stdout",
     "output_type": "stream",
     "text": [
      "torch.Size([20, 5, 416, 416])\n"
     ]
    }
   ],
   "source": [
    "input = torch.randn(20,164,416,416)\n",
    "model = HyperNet(164,5)\n",
    "output = model(input)\n",
    "print(output.shape)"
   ]
  },
  {
   "cell_type": "code",
   "execution_count": 4,
   "metadata": {
    "collapsed": true,
    "jupyter": {
     "outputs_hidden": true
    }
   },
   "outputs": [],
   "source": [
    "from datasets import get_dataset\n",
    "train_dataset = get_dataset(args['train_dataset']['name'], args['train_dataset']['kwargs'])"
   ]
  },
  {
   "cell_type": "code",
   "execution_count": null,
   "metadata": {
    "collapsed": true,
    "jupyter": {
     "outputs_hidden": true
    }
   },
   "outputs": [],
   "source": [
    "sample = train_dataset.__getitem__(1)"
   ]
  },
  {
   "cell_type": "code",
   "execution_count": 13,
   "metadata": {
    "collapsed": true,
    "jupyter": {
     "outputs_hidden": true
    }
   },
   "outputs": [
    {
     "name": "stderr",
     "output_type": "stream",
     "text": [
      "Clipping input data to the valid range for imshow with RGB data ([0..1] for floats or [0..255] for integers).\n"
     ]
    },
    {
     "name": "stdout",
     "output_type": "stream",
     "text": [
      "<class 'torch.Tensor'> torch.Size([3, 416, 416])\n",
      "<class 'torch.Tensor'> torch.Size([1, 416, 416])\n",
      "dict_keys(['image', 'im_name', 'hs', 'instance', 'label'])\n"
     ]
    },
    {
     "data": {
      "text/plain": [
       "<matplotlib.image.AxesImage at 0x7fc34ce3c370>"
      ]
     },
     "execution_count": 13,
     "metadata": {},
     "output_type": "execute_result"
    },
    {
     "data": {
      "image/png": "[encoded data removed]",
      "text/plain": [
       "<Figure size 432x288 with 1 Axes>"
      ]
     },
     "metadata": {
      "needs_background": "light"
     },
     "output_type": "display_data"
    }
   ],
   "source": [
    "image = sample['image']\n",
    "ins = sample['instance']\n",
    "print(type(image),image.shape)\n",
    "print(type(ins),ins.shape)\n",
    "print(sample.keys())\n",
    "plt.imshow(image.permute(1,2,0))"
   ]
  },
  {
   "cell_type": "code",
   "execution_count": null,
   "metadata": {
    "collapsed": true,
    "jupyter": {
     "outputs_hidden": true
    }
   },
   "outputs": [],
   "source": []
  },
  {
   "cell_type": "code",
   "execution_count": null,
   "metadata": {
    "collapsed": true,
    "jupyter": {
     "outputs_hidden": true
    }
   },
   "outputs": [],
   "source": [
    "a"
   ]
  },
  {
   "cell_type": "code",
   "execution_count": null,
   "metadata": {
    "collapsed": true,
    "jupyter": {
     "outputs_hidden": true
    }
   },
   "outputs": [],
   "source": []
  }
 ],
 "metadata": {
  "kernelspec": {
   "display_name": "Python 3 (ipykernel)",
   "language": "python",
   "name": "python3"
  },
  "language_info": {
   "codemirror_mode": {
    "name": "ipython",
    "version": 3
   },
   "file_extension": ".py",
   "mimetype": "text/x-python",
   "name": "python",
   "nbconvert_exporter": "python",
   "pygments_lexer": "ipython3",
   "version": "3.8.13"
  },
  "vscode": {
   "interpreter": {
    "hash": "9ce193ec9d25091872f42330e8e59302c7697927f9e76d82d294f5bce38f4b24"
   }
  }
 },
 "nbformat": 4,
 "nbformat_minor": 4
}
