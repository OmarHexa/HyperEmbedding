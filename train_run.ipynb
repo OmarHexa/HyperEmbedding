{
 "cells": [
  {
   "cell_type": "code",
   "execution_count": null,
   "metadata": {},
   "outputs": [],
   "source": [
    "import train_config\n",
    "from matplotlib import pyplot as plt\n",
    "import os\n",
    "import torch\n",
    "import json\n",
    "from train import begin_trianing"
   ]
  },
  {
   "cell_type": "code",
   "execution_count": null,
   "metadata": {},
   "outputs": [],
   "source": [
    "args = train_config.get_args()\n",
    "print (json.dumps(args, indent=2, default=str))\n",
    "# print(args)"
   ]
  },
  {
   "cell_type": "code",
   "execution_count": null,
   "metadata": {},
   "outputs": [],
   "source": [
    "if args['save']:\n",
    "    if not os.path.exists(args['save_dir']):\n",
    "        os.makedirs(args['save_dir'])\n",
    "\n",
    "if args['display']:\n",
    "    plt.ion()\n",
    "else:\n",
    "    plt.ioff()\n",
    "    plt.switch_backend(\"agg\")"
   ]
  },
  {
   "cell_type": "code",
   "execution_count": null,
   "metadata": {},
   "outputs": [],
   "source": [
    "#check device status\n",
    "device = torch.device(\"cuda:0\" if args['cuda'] & torch.cuda.is_available() else \"cpu\")\n",
    "print('Using device:', device)"
   ]
  },
  {
   "cell_type": "code",
   "execution_count": null,
   "metadata": {},
   "outputs": [],
   "source": [
    "begin_trianing(args,device=device)"
   ]
  }
 ],
 "metadata": {
  "kernelspec": {
   "display_name": "base",
   "language": "python",
   "name": "python3"
  },
  "language_info": {
   "codemirror_mode": {
    "name": "ipython",
    "version": 3
   },
   "file_extension": ".py",
   "mimetype": "text/x-python",
   "name": "python",
   "nbconvert_exporter": "python",
   "pygments_lexer": "ipython3",
   "version": "3.9.16"
  },
  "orig_nbformat": 4,
  "vscode": {
   "interpreter": {
    "hash": "9ce193ec9d25091872f42330e8e59302c7697927f9e76d82d294f5bce38f4b24"
   }
  }
 },
 "nbformat": 4,
 "nbformat_minor": 2
}
