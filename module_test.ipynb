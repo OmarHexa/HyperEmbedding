{
 "cells": [
  {
   "cell_type": "code",
   "execution_count": null,
   "metadata": {},
   "outputs": [
    {
     "name": "stderr",
     "output_type": "stream",
     "text": [
      "/Users/faruk92/miniconda3/lib/python3.9/site-packages/tqdm/auto.py:22: TqdmWarning: IProgress not found. Please update jupyter and ipywidgets. See https://ipywidgets.readthedocs.io/en/stable/user_install.html\n",
      "  from .autonotebook import tqdm as notebook_tqdm\n"
     ]
    }
   ],
   "source": [
    "from utils.transforms import get_transform\n",
    "from datasets.H2gigaDataset import H2gigaDataset\n",
    "import torch\n",
    "\n",
    "\n",
    "\n",
    "dir = '../crops/H2giga'"
   ]
  },
  {
   "cell_type": "code",
   "execution_count": 2,
   "metadata": {},
   "outputs": [
    {
     "name": "stdout",
     "output_type": "stream",
     "text": [
      "`val` dataset created! Accessing data from ../crops/H2giga/val/\n",
      "Number of images in `val` directory is 27\n",
      "Number of instances in `val` directory is 27\n",
      "Number of instances in `val` directory is 27\n"
     ]
    }
   ],
   "source": [
    "transfrom= get_transform([\n",
    "                {\n",
    "                    'name': 'RandomRotationsAndFlips',\n",
    "                    'opts': {\n",
    "                        'keys': ('image', 'instance','label'),\n",
    "                        'degrees': 90,\n",
    "                    }\n",
    "                },\n",
    "                {\n",
    "                    'name': 'ToTensor',\n",
    "                    'opts': {\n",
    "                        'keys': ('image', 'instance', 'label'),\n",
    "                        'type': (torch.FloatTensor, torch.ByteTensor, torch.ByteTensor),\n",
    "                    }\n",
    "                }\n",
    "    ])\n",
    "data = H2gigaDataset(dir,type='val',transform=transfrom,class_id=1)\n",
    "sample = data.__getitem__(0)"
   ]
  },
  {
   "cell_type": "code",
   "execution_count": 5,
   "metadata": {},
   "outputs": [
    {
     "name": "stdout",
     "output_type": "stream",
     "text": [
      "<class 'torch.Tensor'> torch.Size([3, 416, 416])\n",
      "<class 'torch.Tensor'> torch.Size([1, 416, 416])\n",
      "dict_keys(['image', 'im_name', 'instance', 'label'])\n"
     ]
    }
   ],
   "source": [
    "image = sample['image']\n",
    "ins = sample['instance']\n",
    "print(type(image),image.shape)\n",
    "print(type(ins),ins.shape)\n",
    "print(sample.keys())"
   ]
  },
  {
   "cell_type": "code",
   "execution_count": null,
   "metadata": {},
   "outputs": [],
   "source": [
    "\n",
    "\n"
   ]
  }
 ],
 "metadata": {
  "kernelspec": {
   "display_name": "base",
   "language": "python",
   "name": "python3"
  },
  "language_info": {
   "codemirror_mode": {
    "name": "ipython",
    "version": 3
   },
   "file_extension": ".py",
   "mimetype": "text/x-python",
   "name": "python",
   "nbconvert_exporter": "python",
   "pygments_lexer": "ipython3",
   "version": "3.9.16"
  },
  "orig_nbformat": 4,
  "vscode": {
   "interpreter": {
    "hash": "9ce193ec9d25091872f42330e8e59302c7697927f9e76d82d294f5bce38f4b24"
   }
  }
 },
 "nbformat": 4,
 "nbformat_minor": 2
}
