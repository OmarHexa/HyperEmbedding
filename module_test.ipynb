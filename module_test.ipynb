{
 "cells": [
  {
   "cell_type": "code",
   "execution_count": 18,
   "metadata": {},
   "outputs": [],
   "source": [
    "from utils.transforms import get_transform\n",
    "from datasets.H2gigaDataset import H2gigaDataset\n",
    "import torch\n",
    "from models.BranchedERFNet import BranchedHyperNet\n",
    "from criterions.my_loss import SpatialEmbLoss\n",
    "from utils.utils import AverageMeter\n",
    "\n",
    "dir = '../Data/H2giga/'"
   ]
  },
  {
   "cell_type": "code",
   "execution_count": 19,
   "metadata": {},
   "outputs": [
    {
     "name": "stdout",
     "output_type": "stream",
     "text": [
      "Creating branched hypernet with [4, 5] classes\n",
      "Created spatial emb loss function with: to_center: True, n_sigma: 2\n",
      "torch.Size([1, 9, 1024, 1024])\n"
     ]
    }
   ],
   "source": [
    "transfrom= get_transform([\n",
    "                {\n",
    "                    'name': 'RandomRotationsAndFlips',\n",
    "                    'opts': {\n",
    "                        'keys': ('image','hs', 'instance','label'),\n",
    "                        'degrees': 90,\n",
    "                    }\n",
    "                },\n",
    "                {\n",
    "                    'name': 'ToTensor',\n",
    "                    'opts': {\n",
    "                        'keys': ('image', 'hs','instance', 'label'),\n",
    "                        'type': (torch.FloatTensor,torch.FloatTensor, torch.ByteTensor, torch.ByteTensor),\n",
    "                    }\n",
    "                }\n",
    "    ])\n",
    "data = H2gigaDataset(dir,type='val',transform=transfrom)\n",
    "sample = data.__getitem__(1)\n",
    "loss_meter, iou_meter = AverageMeter(), AverageMeter()\n",
    "device = 'cuda'\n",
    "hs = sample['hs'].unsqueeze(0).to(device)\n",
    "instance = sample['instance'].to(device)\n",
    "label = sample['label'].to(device)\n",
    "model = BranchedHyperNet(154,[4,5])\n",
    "criterion = SpatialEmbLoss(class_weight=[1,1,1,1,1])\n",
    "\n",
    "model.to(device)\n",
    "criterion.to(device)\n",
    "output = model(hs)\n",
    "loss = criterion(output,instance,label,iou=True, iou_meter=iou_meter)\n",
    "print(output.shape)\n"
   ]
  },
  {
   "cell_type": "code",
   "execution_count": null,
   "metadata": {},
   "outputs": [],
   "source": [
    "image = sample['image']\n",
    "ins = sample['instance']\n",
    "clmap = sample['label']\n",
    "\n",
    "print(type(image),image.shape)\n",
    "print(type(ins),ins.shape)\n",
    "print(sample.keys())"
   ]
  },
  {
   "cell_type": "code",
   "execution_count": null,
   "metadata": {},
   "outputs": [],
   "source": [
    "import matplotlib.pyplot as plt\n",
    "hs = sample['hs']\n",
    "plt.imshow(hs.permute(1,2,0)[...,(30,50,80)])\n",
    "\n",
    "print(hs.shape)"
   ]
  },
  {
   "cell_type": "code",
   "execution_count": null,
   "metadata": {},
   "outputs": [],
   "source": [
    "plt.imshow(ins.permute(1,2,0))\n"
   ]
  },
  {
   "cell_type": "code",
   "execution_count": null,
   "metadata": {},
   "outputs": [],
   "source": [
    "plt.imshow(clmap.permute(1,2,0))\n",
    "print(clmap.shape)"
   ]
  },
  {
   "cell_type": "code",
   "execution_count": null,
   "metadata": {},
   "outputs": [],
   "source": [
    "import train_config\n",
    "import torch\n",
    "from tqdm import tqdm\n",
    "\n",
    "from datasets import get_dataset\n",
    "from models import get_model\n",
    "from criterions.my_loss import SpatialEmbLoss\n",
    "\n",
    "\n",
    "\n",
    "args =train_config.get_args()\n",
    "device = torch.device(\"cuda:0\" if args['cuda'] & torch.cuda.is_available() else \"cpu\")\n",
    "\n",
    "train_dataset = get_dataset('H2giga', args['train_dataset']['kwargs'])\n",
    "train_dataloader = torch.utils.data.DataLoader(\n",
    "                                    train_dataset,\n",
    "                                    batch_size=args['train_dataset']['batch_size'],\n",
    "                                    shuffle=True,\n",
    "                                    drop_last=True,\n",
    "                                    num_workers=args['train_dataset']['workers'])\n",
    "model = get_model(args['model']['name'], args['model']['kwargs'])\n",
    "model.init_output(args['loss_opts']['n_sigma'])\n",
    "model = torch.nn.DataParallel(model).to(device)\n",
    "criterion = SpatialEmbLoss(**args['loss_opts'])\n",
    "criterion = torch.nn.DataParallel(criterion).to(device)\n",
    "optimizer = torch.optim.Adam(model.parameters(), lr=args['lr'], weight_decay=1e-4)\n"
   ]
  },
  {
   "cell_type": "code",
   "execution_count": null,
   "metadata": {},
   "outputs": [],
   "source": [
    "\n",
    "\n",
    "model.train()\n",
    "\n",
    "for i, sample in enumerate(tqdm(train_dataloader)):\n",
    "\n",
    "    im = sample['hs'].to(device)\n",
    "#         im = sample['image'].to(device)\n",
    "\n",
    "    instances = sample['instance'].squeeze().to(device)\n",
    "    class_labels = sample['label'].squeeze().to(device)\n",
    "\n",
    "    output = model(im)\n",
    "    print(output.shape)\n",
    "    loss = criterion(output,instances, class_labels)\n",
    "    loss = loss.mean()\n",
    "\n",
    "    optimizer.zero_grad()\n",
    "    loss.backward()\n",
    "    optimizer.step()"
   ]
  },
  {
   "cell_type": "code",
   "execution_count": null,
   "metadata": {},
   "outputs": [],
   "source": [
    "from utils.utils import AverageMeter\n",
    "val_dataset = get_dataset(args['val_dataset']['name'], args['val_dataset']['kwargs'])\n",
    "val_dataloader = torch.utils.data.DataLoader(\n",
    "                                    val_dataset,\n",
    "                                    batch_size=args['val_dataset']['batch_size'],\n",
    "                                    shuffle=False,\n",
    "                                    drop_last=True,\n",
    "                                    num_workers=args['train_dataset']['workers'])\n",
    "model.eval()\n",
    "loss_meter, iou_meter = AverageMeter(), AverageMeter()\n",
    "\n",
    "with torch.no_grad():\n",
    "\n",
    "    for i, sample in enumerate(tqdm(val_dataloader)):\n",
    "\n",
    "        im = sample['hs'].to(device)\n",
    "#        im = sample['image'].to(device)\n",
    "\n",
    "        instances = sample['instance'].squeeze().to(device)\n",
    "        class_labels = sample['label'].squeeze().to(device)\n",
    "\n",
    "        output = model(im)\n",
    "        print(output.shape,instances.shape,class_labels.shape)\n",
    "        loss = criterion(output,instances, class_labels, iou=True, iou_meter=iou_meter)\n",
    "        loss = loss.mean()\n",
    "\n"
   ]
  },
  {
   "cell_type": "code",
   "execution_count": null,
   "metadata": {},
   "outputs": [],
   "source": []
  }
 ],
 "metadata": {
  "kernelspec": {
   "display_name": "Python 3 (ipykernel)",
   "language": "python",
   "name": "python3"
  },
  "language_info": {
   "codemirror_mode": {
    "name": "ipython",
    "version": 3
   },
   "file_extension": ".py",
   "mimetype": "text/x-python",
   "name": "python",
   "nbconvert_exporter": "python",
   "pygments_lexer": "ipython3",
   "version": "3.8.13"
  },
  "vscode": {
   "interpreter": {
    "hash": "9ce193ec9d25091872f42330e8e59302c7697927f9e76d82d294f5bce38f4b24"
   }
  }
 },
 "nbformat": 4,
 "nbformat_minor": 4
}
